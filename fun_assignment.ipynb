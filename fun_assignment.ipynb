{
 "cells": [
  {
   "cell_type": "markdown",
   "id": "1fceb026-12cc-4da3-a392-ae4ef17674ea",
   "metadata": {},
   "source": [
    "Q1. Which keyword is used to create a function? Create a function to return a list of odd numbers in the\n",
    "range of 1 to 25."
   ]
  },
  {
   "cell_type": "markdown",
   "id": "b305ac79-a9bb-4f46-8296-cfc646847364",
   "metadata": {},
   "source": [
    "Solution : \n",
    "    \n",
    "    def keyword is used to create a function."
   ]
  },
  {
   "cell_type": "code",
   "execution_count": 1,
   "id": "7f6f4dd9-7ddb-4f7a-8dd0-d3e1537efd3d",
   "metadata": {},
   "outputs": [],
   "source": [
    "#  Example\n",
    "\n",
    "def odd():\n",
    "    res = []\n",
    "    for i in range(1,26):\n",
    "        if i % 2 == 1:\n",
    "            res.append(i)\n",
    "            \n",
    "    return res"
   ]
  },
  {
   "cell_type": "code",
   "execution_count": 2,
   "id": "66ef28e7-0347-4c19-a4f8-fb25410c1ec8",
   "metadata": {},
   "outputs": [],
   "source": [
    "output = odd()"
   ]
  },
  {
   "cell_type": "code",
   "execution_count": 3,
   "id": "872a9f5d-d8fa-482e-bea9-a73f11c6f0ab",
   "metadata": {},
   "outputs": [
    {
     "data": {
      "text/plain": [
       "[1, 3, 5, 7, 9, 11, 13, 15, 17, 19, 21, 23, 25]"
      ]
     },
     "execution_count": 3,
     "metadata": {},
     "output_type": "execute_result"
    }
   ],
   "source": [
    "output"
   ]
  },
  {
   "cell_type": "code",
   "execution_count": null,
   "id": "77db7686-a4e6-4a42-9811-96f5ecd27d61",
   "metadata": {},
   "outputs": [],
   "source": []
  },
  {
   "cell_type": "markdown",
   "id": "9d25b33f-33d0-4f01-b182-b3104e1c5e18",
   "metadata": {},
   "source": [
    "Q2. Why *args and **kwargs is used in some functions? Create a function each for *args and **kwargs to\n",
    "demonstrate their use."
   ]
  },
  {
   "cell_type": "markdown",
   "id": "550dfcc6-32b2-49ec-83e1-cb189895ecee",
   "metadata": {},
   "source": [
    "Solution :\n",
    "\n",
    "*args is used to take the arguments paassed in the function call as a list.\n",
    "\n",
    "**kwargs is used to take the arguments passed in the function call as a dictionary."
   ]
  },
  {
   "cell_type": "code",
   "execution_count": 4,
   "id": "bca03974-a0a1-4e33-80b9-100ebec04f44",
   "metadata": {},
   "outputs": [],
   "source": [
    "def fun1(*args):\n",
    "    l = args\n",
    "    for i in l:\n",
    "        print(i)"
   ]
  },
  {
   "cell_type": "code",
   "execution_count": 5,
   "id": "61fee335-41fc-4d91-81a2-100b7cc78b26",
   "metadata": {},
   "outputs": [
    {
     "name": "stdout",
     "output_type": "stream",
     "text": [
      "1\n",
      "2\n",
      "34\n",
      "5\n",
      "9\n",
      "6\n"
     ]
    }
   ],
   "source": [
    "fun1(1,2,34,5,9,6)"
   ]
  },
  {
   "cell_type": "code",
   "execution_count": 15,
   "id": "2db8fd50-34a8-499e-9478-020cf3aa90ad",
   "metadata": {},
   "outputs": [],
   "source": [
    "def fun2(**kwargs):\n",
    "    l = kwargs\n",
    "    for key , value in l.items():\n",
    "        print(key,value)"
   ]
  },
  {
   "cell_type": "code",
   "execution_count": 16,
   "id": "07d7b809-0404-407e-aa58-cd9b0826340d",
   "metadata": {},
   "outputs": [
    {
     "name": "stdout",
     "output_type": "stream",
     "text": [
      "a 2\n",
      "b 4\n"
     ]
    }
   ],
   "source": [
    "fun2(a = 2,b = 4)"
   ]
  },
  {
   "cell_type": "code",
   "execution_count": null,
   "id": "17d1f4f2-b4b2-44a1-a671-da7b30491b8e",
   "metadata": {},
   "outputs": [],
   "source": []
  },
  {
   "cell_type": "markdown",
   "id": "296549df-b184-484e-984b-64350c98344d",
   "metadata": {},
   "source": [
    "Q3. What is an iterator in python? Name the method used to initialise the iterator object and the method\n",
    "used for iteration. Use these methods to print the first five elements of the given list [2, 4, 6, 8, 10, 12, 14, 16,\n",
    "18, 20]."
   ]
  },
  {
   "cell_type": "code",
   "execution_count": null,
   "id": "d96c4112-7d1c-46de-9b6c-9feface3dbc9",
   "metadata": {},
   "outputs": [],
   "source": []
  },
  {
   "cell_type": "markdown",
   "id": "89cd7c8d-36d1-45f3-a447-7c89e307f092",
   "metadata": {},
   "source": [
    "Solution :\n",
    "    \n",
    "    In Python, an iterator is an object that is used to iterate over iterable objects like lists, tuples, dicts, and sets. An iterator is initialized using the iter() method and uses the next() method for iteration."
   ]
  },
  {
   "cell_type": "code",
   "execution_count": 26,
   "id": "d6f14606-5b41-4251-8cf1-052233152343",
   "metadata": {},
   "outputs": [
    {
     "data": {
      "text/plain": [
       "[2, 4, 6, 8, 10, 12, 14, 16, 18, 20]"
      ]
     },
     "execution_count": 26,
     "metadata": {},
     "output_type": "execute_result"
    }
   ],
   "source": [
    "list1 = [2, 4, 6, 8, 10, 12, 14, 16, 18, 20]\n",
    "list1"
   ]
  },
  {
   "cell_type": "code",
   "execution_count": 27,
   "id": "8163db41-e08f-420c-976f-28448c4a035a",
   "metadata": {},
   "outputs": [],
   "source": [
    "a = iter(list1)"
   ]
  },
  {
   "cell_type": "code",
   "execution_count": 28,
   "id": "142dfb1a-a9bb-4719-b18c-84409367a630",
   "metadata": {},
   "outputs": [
    {
     "name": "stdout",
     "output_type": "stream",
     "text": [
      "2\n",
      "4\n",
      "6\n",
      "8\n",
      "10\n"
     ]
    }
   ],
   "source": [
    "for i in range(5):\n",
    "    print(next(a))"
   ]
  },
  {
   "cell_type": "code",
   "execution_count": null,
   "id": "90829259-7bbf-41bd-9edf-9b2fddce98dd",
   "metadata": {},
   "outputs": [],
   "source": []
  },
  {
   "cell_type": "code",
   "execution_count": null,
   "id": "a39ee336-2dbf-4fdc-90dc-344770557cb6",
   "metadata": {},
   "outputs": [],
   "source": []
  },
  {
   "cell_type": "markdown",
   "id": "a9c08303-ec2b-4381-88ae-854d530be496",
   "metadata": {},
   "source": [
    "Q4. What is a generator function in python? Why yield keyword is used? Give an example of a generator\n",
    "function."
   ]
  },
  {
   "cell_type": "markdown",
   "id": "c78b4b1f-3512-4b97-8785-0f18fc5f0039",
   "metadata": {},
   "source": [
    " Solution : \n",
    "        \n",
    "        In Python, a generator function is a function that uses the yield keyword instead of return to return an iterator object. A generator function can be used to create a generator object that can be iterated over using the next() method. The yield keyword is used to produce a value from the generator function and pause its execution. When the next value is requested from the generator object, the function resumes its execution from where it left off and produces the next value. This process continues until there are no more values to produce"
   ]
  },
  {
   "cell_type": "code",
   "execution_count": 48,
   "id": "4670bd6d-4604-4876-a3ff-ba0abe190937",
   "metadata": {},
   "outputs": [],
   "source": [
    "def fun():\n",
    "    for i in range(5):\n",
    "        yield i\n",
    "        "
   ]
  },
  {
   "cell_type": "code",
   "execution_count": 49,
   "id": "831a5245-e02a-48ef-a443-6407de02943c",
   "metadata": {},
   "outputs": [],
   "source": [
    "a = fun()"
   ]
  },
  {
   "cell_type": "code",
   "execution_count": 42,
   "id": "2f4768b8-ced8-4984-9f77-c6592010908a",
   "metadata": {},
   "outputs": [
    {
     "data": {
      "text/plain": [
       "0"
      ]
     },
     "execution_count": 42,
     "metadata": {},
     "output_type": "execute_result"
    }
   ],
   "source": [
    "next(a)\n"
   ]
  },
  {
   "cell_type": "code",
   "execution_count": 43,
   "id": "c0d972eb-6a0b-4891-ae44-65a3131b2bc6",
   "metadata": {},
   "outputs": [
    {
     "data": {
      "text/plain": [
       "1"
      ]
     },
     "execution_count": 43,
     "metadata": {},
     "output_type": "execute_result"
    }
   ],
   "source": [
    "next(a)\n"
   ]
  },
  {
   "cell_type": "code",
   "execution_count": 44,
   "id": "3b9ca547-2319-45ab-9f0e-10f5dfb24e44",
   "metadata": {},
   "outputs": [
    {
     "data": {
      "text/plain": [
       "2"
      ]
     },
     "execution_count": 44,
     "metadata": {},
     "output_type": "execute_result"
    }
   ],
   "source": [
    "next(a)"
   ]
  },
  {
   "cell_type": "code",
   "execution_count": 45,
   "id": "b1de8a70-45e5-4f79-aba1-f4698453e690",
   "metadata": {},
   "outputs": [
    {
     "data": {
      "text/plain": [
       "3"
      ]
     },
     "execution_count": 45,
     "metadata": {},
     "output_type": "execute_result"
    }
   ],
   "source": [
    "next(a)"
   ]
  },
  {
   "cell_type": "code",
   "execution_count": 46,
   "id": "9abbb7a5-bf24-4fde-9c3b-8226f695c6a5",
   "metadata": {},
   "outputs": [
    {
     "data": {
      "text/plain": [
       "4"
      ]
     },
     "execution_count": 46,
     "metadata": {},
     "output_type": "execute_result"
    }
   ],
   "source": [
    "next(a)"
   ]
  },
  {
   "cell_type": "code",
   "execution_count": 50,
   "id": "1d0ea582-8563-4963-b957-1bd8d4eb1297",
   "metadata": {},
   "outputs": [
    {
     "name": "stdout",
     "output_type": "stream",
     "text": [
      "0\n",
      "1\n",
      "2\n",
      "3\n",
      "4\n"
     ]
    }
   ],
   "source": [
    "for i in a:\n",
    "    print(i)"
   ]
  },
  {
   "cell_type": "code",
   "execution_count": null,
   "id": "93cca43d-94f0-43df-898b-342dc232399b",
   "metadata": {},
   "outputs": [],
   "source": []
  },
  {
   "cell_type": "markdown",
   "id": "0a44cf14-bf94-4a55-a378-91a59aaec737",
   "metadata": {},
   "source": [
    "Q5. Create a generator function for prime numbers less than 1000. Use the next() method to print the\n",
    "first 20 prime numbers."
   ]
  },
  {
   "cell_type": "code",
   "execution_count": 6,
   "id": "d1088784-ce7b-43ae-9a1c-3972273d3a7f",
   "metadata": {},
   "outputs": [
    {
     "name": "stdout",
     "output_type": "stream",
     "text": [
      "2\n",
      "3\n",
      "5\n",
      "7\n",
      "11\n",
      "13\n",
      "17\n",
      "19\n",
      "23\n",
      "29\n",
      "31\n",
      "37\n",
      "41\n",
      "43\n",
      "47\n",
      "53\n",
      "59\n",
      "61\n",
      "67\n",
      "71\n"
     ]
    }
   ],
   "source": [
    "def primes():\n",
    "    \"\"\"Create a generator function for prime numbers less than 1000.\"\"\"\n",
    "    yield 2\n",
    "    primes_list = [2]\n",
    "    for i in range(3, 1000):\n",
    "        is_prime = True\n",
    "        for prime in primes_list:\n",
    "            if i % prime == 0:\n",
    "                is_prime = False\n",
    "                break\n",
    "        if is_prime:\n",
    "            primes_list.append(i)\n",
    "            yield i\n",
    "\n",
    "prime_gen = primes()\n",
    "# the next() method to print the first 20 prime numbers.\n",
    "for i in range(20):\n",
    "    print(next(prime_gen))\n",
    "                "
   ]
  },
  {
   "cell_type": "code",
   "execution_count": null,
   "id": "15d48b33-1b93-42db-8525-20e6d537943b",
   "metadata": {},
   "outputs": [],
   "source": []
  }
 ],
 "metadata": {
  "kernelspec": {
   "display_name": "Python 3 (ipykernel)",
   "language": "python",
   "name": "python3"
  },
  "language_info": {
   "codemirror_mode": {
    "name": "ipython",
    "version": 3
   },
   "file_extension": ".py",
   "mimetype": "text/x-python",
   "name": "python",
   "nbconvert_exporter": "python",
   "pygments_lexer": "ipython3",
   "version": "3.10.8"
  }
 },
 "nbformat": 4,
 "nbformat_minor": 5
}
